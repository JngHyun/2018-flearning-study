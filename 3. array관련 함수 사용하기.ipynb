{
 "cells": [
  {
   "cell_type": "code",
   "execution_count": 1,
   "metadata": {},
   "outputs": [],
   "source": [
    "import numpy as np"
   ]
  },
  {
   "cell_type": "code",
   "execution_count": 2,
   "metadata": {},
   "outputs": [],
   "source": [
    "arr = np.arange(1,10)"
   ]
  },
  {
   "cell_type": "code",
   "execution_count": 3,
   "metadata": {},
   "outputs": [
    {
     "data": {
      "text/plain": [
       "array([1, 2, 3, 4, 5, 6, 7, 8, 9])"
      ]
     },
     "execution_count": 3,
     "metadata": {},
     "output_type": "execute_result"
    }
   ],
   "source": [
    "arr"
   ]
  },
  {
   "cell_type": "markdown",
   "metadata": {},
   "source": [
    "1.제곱근"
   ]
  },
  {
   "cell_type": "code",
   "execution_count": 4,
   "metadata": {},
   "outputs": [
    {
     "data": {
      "text/plain": [
       "array([1.        , 1.41421356, 1.73205081, 2.        , 2.23606798,\n",
       "       2.44948974, 2.64575131, 2.82842712, 3.        ])"
      ]
     },
     "execution_count": 4,
     "metadata": {},
     "output_type": "execute_result"
    }
   ],
   "source": [
    "np.sqrt(arr)"
   ]
  },
  {
   "cell_type": "markdown",
   "metadata": {},
   "source": [
    "2.log10"
   ]
  },
  {
   "cell_type": "code",
   "execution_count": 5,
   "metadata": {},
   "outputs": [
    {
     "data": {
      "text/plain": [
       "array([0.        , 0.30103   , 0.47712125, 0.60205999, 0.69897   ,\n",
       "       0.77815125, 0.84509804, 0.90308999, 0.95424251])"
      ]
     },
     "execution_count": 5,
     "metadata": {},
     "output_type": "execute_result"
    }
   ],
   "source": [
    "np.log10(arr)"
   ]
  },
  {
   "cell_type": "markdown",
   "metadata": {},
   "source": [
    "3.array각 성분에 적용되는 함수\n",
    "\n",
    "abs\t:각 성분의 절댓값 계산\n",
    "\n",
    "sqrt :각 성분의 제곱근 계산 (array ** 0.5 의 결과와 동일)\n",
    "\n",
    "square\t:각 성분의 제곱 계산 (array ** 2 의 결과와 동일)\n",
    "\n",
    "exp\t:각 성분을 무리수 e의 지수로 삼은 값을 계산\n",
    "\n",
    "log, log10, log2 :자연로그(밑이 e), 상용로그(밑이 10), 밑이 2인 로그를 계산\n",
    "\n",
    "sign :각 성분의 부호 계산 (+인 경우 1, -인 경우 -1, 0인 경우 0)\n",
    "\n",
    "ceil :각 성분의 소수 첫 번째 자리에서 올림한 값을 계산\n",
    "\n",
    "floor :각 성분의 소수 첫 번째 자리에서 내림한 값을 계산\n",
    "\n",
    "isnan :각 성분이 NaN(Not a Number)인 경우 True를, 그렇지 않은 경우 False를 반환\n",
    "\n",
    "isinf :각 성분이 무한대(infinity)인 경우 True를, 그렇지 않은 경우 False를 반환\n",
    "\n",
    "cos, cosh, sin, sinh, tan, tanh\t:각 성분에 대한 삼각함수 값을 계산\n"
   ]
  },
  {
   "cell_type": "markdown",
   "metadata": {},
   "source": [
    "4.두개의 random array"
   ]
  },
  {
   "cell_type": "code",
   "execution_count": 6,
   "metadata": {},
   "outputs": [],
   "source": [
    "x= np.random.randn(8)\n",
    "y= np.random.randn(8)"
   ]
  },
  {
   "cell_type": "code",
   "execution_count": 7,
   "metadata": {},
   "outputs": [
    {
     "data": {
      "text/plain": [
       "array([-0.33045822, -0.48186506, -0.44686198, -0.45617275,  0.53592395,\n",
       "        0.18738747, -0.74192721,  0.26550797])"
      ]
     },
     "execution_count": 7,
     "metadata": {},
     "output_type": "execute_result"
    }
   ],
   "source": [
    "x"
   ]
  },
  {
   "cell_type": "code",
   "execution_count": 8,
   "metadata": {},
   "outputs": [
    {
     "data": {
      "text/plain": [
       "array([-0.74641929, -0.25500863, -0.37908164, -0.66571425, -0.13889632,\n",
       "        0.42575352, -0.04246259, -0.62002189])"
      ]
     },
     "execution_count": 8,
     "metadata": {},
     "output_type": "execute_result"
    }
   ],
   "source": [
    "y"
   ]
  },
  {
   "cell_type": "markdown",
   "metadata": {},
   "source": [
    "4-1.두 array 값중 max"
   ]
  },
  {
   "cell_type": "code",
   "execution_count": 9,
   "metadata": {},
   "outputs": [
    {
     "data": {
      "text/plain": [
       "array([-0.33045822, -0.25500863, -0.37908164, -0.45617275,  0.53592395,\n",
       "        0.42575352, -0.04246259,  0.26550797])"
      ]
     },
     "execution_count": 9,
     "metadata": {},
     "output_type": "execute_result"
    }
   ],
   "source": [
    "np.maximum(x,y)"
   ]
  },
  {
   "cell_type": "code",
   "execution_count": 13,
   "metadata": {},
   "outputs": [],
   "source": [
    "arr=np.random.randn(5,4)"
   ]
  },
  {
   "cell_type": "code",
   "execution_count": 14,
   "metadata": {},
   "outputs": [
    {
     "data": {
      "text/plain": [
       "array([[ 0.24560401,  0.5149942 ,  0.99651102,  0.30828409],\n",
       "       [ 0.12099537,  0.27309767,  0.22969845, -0.37640595],\n",
       "       [ 0.57224796, -0.06576678,  2.24247206,  1.73794682],\n",
       "       [-0.35086097, -1.90159239, -0.85028363,  0.23548014],\n",
       "       [-0.0539436 , -0.54439576,  1.89953724,  0.13675389]])"
      ]
     },
     "execution_count": 14,
     "metadata": {},
     "output_type": "execute_result"
    }
   ],
   "source": [
    "arr\n"
   ]
  },
  {
   "cell_type": "markdown",
   "metadata": {},
   "source": [
    "5.두개의 array에 적용되는 함수\n",
    "\n",
    "add :두 array에서 동일한 위치의 성분끼리 더한 값을 계산 (arr1 + arr2의 결과와 동일)\n",
    "\n",
    "subtract :두 array에서 동일한 위치의 성분끼리 뺀 값을 계산 (arr1 - arr2의 결과와 동일)\n",
    "\n",
    "multiply :두 array에서 동일한 위치의 성분끼리 곱한 값을 계산 (arr1 * arr2의 결과와 동일)\n",
    "\n",
    "divide :두 array에서 동일한 위치의 성분끼리 나눈 값을 계산 (arr1 / arr2의 결과와 동일)\n",
    "\n",
    "maximum\t:두 array에서 동일한 위치의 성분끼리 비교하여 둘 중 최댓값을 반환\n",
    "\n",
    "minimum\t:두 array에서 동일한 위치의 성분끼리 비교하여 둘 중 최솟값을 반환"
   ]
  },
  {
   "cell_type": "markdown",
   "metadata": {},
   "source": [
    "6.array의 총합"
   ]
  },
  {
   "cell_type": "code",
   "execution_count": 15,
   "metadata": {},
   "outputs": [
    {
     "data": {
      "text/plain": [
       "5.370373821962306"
      ]
     },
     "execution_count": 15,
     "metadata": {},
     "output_type": "execute_result"
    }
   ],
   "source": [
    "arr.sum()"
   ]
  },
  {
   "cell_type": "markdown",
   "metadata": {},
   "source": [
    "7.array의 평균"
   ]
  },
  {
   "cell_type": "code",
   "execution_count": 16,
   "metadata": {},
   "outputs": [
    {
     "data": {
      "text/plain": [
       "0.2685186910981153"
      ]
     },
     "execution_count": 16,
     "metadata": {},
     "output_type": "execute_result"
    }
   ],
   "source": [
    "arr.mean()"
   ]
  },
  {
   "cell_type": "markdown",
   "metadata": {},
   "source": [
    "8.각 열에 대한 합의 계산"
   ]
  },
  {
   "cell_type": "code",
   "execution_count": 17,
   "metadata": {},
   "outputs": [
    {
     "data": {
      "text/plain": [
       "array([ 0.53404277, -1.72366307,  4.51793513,  2.04205899])"
      ]
     },
     "execution_count": 17,
     "metadata": {},
     "output_type": "execute_result"
    }
   ],
   "source": [
    "arr.sum(axis=0)"
   ]
  },
  {
   "cell_type": "markdown",
   "metadata": {},
   "source": [
    "9.각 행에 대한 합의 계산"
   ]
  },
  {
   "cell_type": "code",
   "execution_count": 19,
   "metadata": {},
   "outputs": [
    {
     "data": {
      "text/plain": [
       "array([ 2.06539332,  0.24738554,  4.48690005, -2.86725685,  1.43795177])"
      ]
     },
     "execution_count": 19,
     "metadata": {},
     "output_type": "execute_result"
    }
   ],
   "source": [
    "arr.sum(axis=1)"
   ]
  },
  {
   "cell_type": "markdown",
   "metadata": {},
   "source": [
    "10.array에 적용되는 통계함수\n",
    "\n",
    "sum :전체 성분의 합을 계산\n",
    "\n",
    "mean :전체 성분의 평균을 계산\n",
    "\n",
    "std, var :전체 성분의 표준편차, 분산을 계산\n",
    "\n",
    "min, max :전체 성분의 최솟값, 최댓값을 계산\n",
    "\n",
    "argmin, argmax :전체 성분의 최솟값, 최댓값이 위치한 인덱스를 반환\n",
    "\n",
    "cumsum :맨 첫번째 성분부터 각 성분까지의 누적합을 계산 (0에서부터 계속 더해짐)\n",
    "\n",
    "cumprod :맨 첫번째 성분부터 각 성분까지의 누적곱을 계산 (1에서부터 계속 곱해짐)"
   ]
  },
  {
   "cell_type": "code",
   "execution_count": 21,
   "metadata": {},
   "outputs": [
    {
     "data": {
      "text/plain": [
       "array([[ True,  True,  True,  True],\n",
       "       [ True,  True,  True, False],\n",
       "       [ True, False,  True,  True],\n",
       "       [False, False, False,  True],\n",
       "       [False, False,  True,  True]])"
      ]
     },
     "execution_count": 21,
     "metadata": {},
     "output_type": "execute_result"
    }
   ],
   "source": [
    "arr>0"
   ]
  },
  {
   "cell_type": "code",
   "execution_count": 22,
   "metadata": {},
   "outputs": [
    {
     "data": {
      "text/plain": [
       "13"
      ]
     },
     "execution_count": 22,
     "metadata": {},
     "output_type": "execute_result"
    }
   ],
   "source": [
    "(arr>0).sum()"
   ]
  },
  {
   "cell_type": "markdown",
   "metadata": {},
   "source": [
    "arr의 각 값이 0보다 큰것이 true로 나타나는 mask를 만든뒤 sum()을 사용하게 되면 영보다 큰 수의 갯수를 알 수 있다."
   ]
  },
  {
   "cell_type": "markdown",
   "metadata": {},
   "source": [
    "11.정렬함수"
   ]
  },
  {
   "cell_type": "code",
   "execution_count": 24,
   "metadata": {},
   "outputs": [],
   "source": [
    "arr = np.random.randn(8)"
   ]
  },
  {
   "cell_type": "code",
   "execution_count": 25,
   "metadata": {},
   "outputs": [
    {
     "data": {
      "text/plain": [
       "array([-0.11583567, -0.82605662,  1.32046345,  1.25562486, -0.66946327,\n",
       "       -1.3351781 ,  0.50163571, -0.94830694])"
      ]
     },
     "execution_count": 25,
     "metadata": {},
     "output_type": "execute_result"
    }
   ],
   "source": [
    "arr"
   ]
  },
  {
   "cell_type": "markdown",
   "metadata": {},
   "source": [
    "11-1.오름차순 정렬"
   ]
  },
  {
   "cell_type": "code",
   "execution_count": 26,
   "metadata": {},
   "outputs": [
    {
     "data": {
      "text/plain": [
       "array([-1.3351781 , -0.94830694, -0.82605662, -0.66946327, -0.11583567,\n",
       "        0.50163571,  1.25562486,  1.32046345])"
      ]
     },
     "execution_count": 26,
     "metadata": {},
     "output_type": "execute_result"
    }
   ],
   "source": [
    "np.sort(arr)"
   ]
  },
  {
   "cell_type": "markdown",
   "metadata": {},
   "source": [
    "11-2.내림차순 정렬"
   ]
  },
  {
   "cell_type": "code",
   "execution_count": 27,
   "metadata": {},
   "outputs": [
    {
     "data": {
      "text/plain": [
       "array([ 1.32046345,  1.25562486,  0.50163571, -0.11583567, -0.66946327,\n",
       "       -0.82605662, -0.94830694, -1.3351781 ])"
      ]
     },
     "execution_count": 27,
     "metadata": {},
     "output_type": "execute_result"
    }
   ],
   "source": [
    "np.sort(arr)[::-1]"
   ]
  },
  {
   "cell_type": "code",
   "execution_count": 29,
   "metadata": {},
   "outputs": [],
   "source": [
    "arr = np.random.randn(5,3)"
   ]
  },
  {
   "cell_type": "code",
   "execution_count": 30,
   "metadata": {},
   "outputs": [
    {
     "data": {
      "text/plain": [
       "array([[-0.18554963,  0.05921168, -1.05919221],\n",
       "       [-1.65296912, -1.58603632,  0.34041826],\n",
       "       [ 1.94176935, -0.90940176,  0.77496572],\n",
       "       [ 1.3160942 , -1.44712503, -0.31152352],\n",
       "       [ 0.43501267, -0.35227319,  1.31341894]])"
      ]
     },
     "execution_count": 30,
     "metadata": {},
     "output_type": "execute_result"
    }
   ],
   "source": [
    "arr"
   ]
  },
  {
   "cell_type": "markdown",
   "metadata": {},
   "source": [
    "11-3.각 열의(2차원) 오름차순 정렬"
   ]
  },
  {
   "cell_type": "code",
   "execution_count": 31,
   "metadata": {},
   "outputs": [
    {
     "data": {
      "text/plain": [
       "array([[-1.65296912, -1.58603632, -1.05919221],\n",
       "       [-0.18554963, -1.44712503, -0.31152352],\n",
       "       [ 0.43501267, -0.90940176,  0.34041826],\n",
       "       [ 1.3160942 , -0.35227319,  0.77496572],\n",
       "       [ 1.94176935,  0.05921168,  1.31341894]])"
      ]
     },
     "execution_count": 31,
     "metadata": {},
     "output_type": "execute_result"
    }
   ],
   "source": [
    "np.sort(arr, axis=0)"
   ]
  },
  {
   "cell_type": "markdown",
   "metadata": {},
   "source": [
    "11-4.각 행의(2차원) 오름차순 정렬"
   ]
  },
  {
   "cell_type": "code",
   "execution_count": 32,
   "metadata": {},
   "outputs": [
    {
     "data": {
      "text/plain": [
       "array([[-1.05919221, -0.18554963,  0.05921168],\n",
       "       [-1.65296912, -1.58603632,  0.34041826],\n",
       "       [-0.90940176,  0.77496572,  1.94176935],\n",
       "       [-1.44712503, -0.31152352,  1.3160942 ],\n",
       "       [-0.35227319,  0.43501267,  1.31341894]])"
      ]
     },
     "execution_count": 32,
     "metadata": {},
     "output_type": "execute_result"
    }
   ],
   "source": [
    "np.sort(arr, axis=1)"
   ]
  },
  {
   "cell_type": "markdown",
   "metadata": {},
   "source": [
    "서로다른 행과 열사이의 성분이 섞일 수 있음을 염두한다."
   ]
  },
  {
   "cell_type": "markdown",
   "metadata": {},
   "source": [
    "11-5.상위 a%의 값 가져오기"
   ]
  },
  {
   "cell_type": "code",
   "execution_count": 35,
   "metadata": {},
   "outputs": [],
   "source": [
    "large_arr=np.random.randn(150)"
   ]
  },
  {
   "cell_type": "code",
   "execution_count": 36,
   "metadata": {},
   "outputs": [
    {
     "data": {
      "text/plain": [
       "array([ 1.89195478,  0.28793701, -1.44568243, -0.54756004, -0.11631534,\n",
       "        1.03117158,  0.01972998, -0.79258451, -0.77993469,  1.17706674,\n",
       "       -0.99680383, -1.78887553, -0.40799422, -1.35805555,  0.87323332,\n",
       "        0.86962662, -0.03793947, -0.14660185, -0.75853418,  0.55890472,\n",
       "       -1.70580302, -0.38844494, -0.3695127 , -0.06543088,  0.64075854,\n",
       "       -2.01584329, -1.20671074,  0.97035434,  0.0719262 ,  2.09831455,\n",
       "        0.642321  , -1.33360864, -0.12166858,  2.81319253,  1.17570245,\n",
       "        0.61598601, -1.29563019,  0.33698424,  1.11712634,  0.47458029,\n",
       "        1.53947869, -0.56507645,  0.52461291, -0.22714708,  1.25473181,\n",
       "        0.04267642,  0.33098065, -0.34885268, -0.10246582,  1.28942718,\n",
       "       -0.21528172,  1.18160617,  0.66487232, -0.62167451, -1.16394827,\n",
       "       -1.43278101,  1.24099913,  0.66597876,  0.45835066, -0.27305618,\n",
       "        1.08036834,  0.81572792,  1.16405035,  1.9654058 ,  0.23997934,\n",
       "        2.58526907,  0.59978483, -0.51617245,  1.69509053,  1.63131114,\n",
       "        1.95072799, -0.75780706, -0.89880678, -1.30002376,  1.74717023,\n",
       "       -0.24798729,  0.09289156,  2.03503469, -0.23325337,  0.98211454,\n",
       "       -0.40433158,  2.13568726, -0.54211866,  1.57115147, -0.22136111,\n",
       "        0.96143874,  2.03706369, -0.81738613, -0.13435901,  1.66604929,\n",
       "       -1.30089558,  0.36050787, -0.56731638,  0.13366049,  0.18485761,\n",
       "        1.23671691,  0.16373272, -0.11527829,  0.28694402, -0.31503785,\n",
       "       -0.08843125, -1.05546618,  1.18105172, -1.53736569,  1.17641812,\n",
       "       -0.37688549,  0.84358681, -0.66960961, -0.17300472,  0.12540922,\n",
       "       -0.40778126, -0.34284544,  0.24347534,  0.05121598,  1.72621475,\n",
       "       -0.46823766, -0.15340641, -1.94775044, -0.32309054, -0.348566  ,\n",
       "        0.56587643,  0.06333565, -0.77185007, -0.40191942, -1.12635592,\n",
       "        0.3364556 ,  0.44904781,  0.60183533,  0.0390524 ,  1.1889497 ,\n",
       "       -0.27595002, -0.43061102,  0.26231215,  1.10547738, -0.21455334,\n",
       "        0.67777125, -0.91736652, -0.62939431, -0.0984935 , -0.32510379,\n",
       "       -0.09306979,  1.84639417, -0.70721425,  0.46823639,  1.80820401,\n",
       "        0.30985742, -3.09833342, -0.77743287,  0.1828134 ,  1.72450481])"
      ]
     },
     "execution_count": 36,
     "metadata": {},
     "output_type": "execute_result"
    }
   ],
   "source": [
    "large_arr"
   ]
  },
  {
   "cell_type": "code",
   "execution_count": 38,
   "metadata": {},
   "outputs": [
    {
     "data": {
      "text/plain": [
       "array([ 2.81319253,  2.58526907,  2.13568726,  2.09831455,  2.03706369,\n",
       "        2.03503469,  1.9654058 ,  1.95072799,  1.89195478,  1.84639417,\n",
       "        1.80820401,  1.74717023,  1.72621475,  1.72450481,  1.69509053,\n",
       "        1.66604929,  1.63131114,  1.57115147,  1.53947869,  1.28942718,\n",
       "        1.25473181,  1.24099913,  1.23671691,  1.1889497 ,  1.18160617,\n",
       "        1.18105172,  1.17706674,  1.17641812,  1.17570245,  1.16405035,\n",
       "        1.11712634,  1.10547738,  1.08036834,  1.03117158,  0.98211454,\n",
       "        0.97035434,  0.96143874,  0.87323332,  0.86962662,  0.84358681,\n",
       "        0.81572792,  0.67777125,  0.66597876,  0.66487232,  0.642321  ,\n",
       "        0.64075854,  0.61598601,  0.60183533,  0.59978483,  0.56587643,\n",
       "        0.55890472,  0.52461291,  0.47458029,  0.46823639,  0.45835066,\n",
       "        0.44904781,  0.36050787,  0.33698424,  0.3364556 ,  0.33098065,\n",
       "        0.30985742,  0.28793701,  0.28694402,  0.26231215,  0.24347534,\n",
       "        0.23997934,  0.18485761,  0.1828134 ,  0.16373272,  0.13366049,\n",
       "        0.12540922,  0.09289156,  0.0719262 ,  0.06333565,  0.05121598,\n",
       "        0.04267642,  0.0390524 ,  0.01972998, -0.03793947, -0.06543088,\n",
       "       -0.08843125, -0.09306979, -0.0984935 , -0.10246582, -0.11527829,\n",
       "       -0.11631534, -0.12166858, -0.13435901, -0.14660185, -0.15340641,\n",
       "       -0.17300472, -0.21455334, -0.21528172, -0.22136111, -0.22714708,\n",
       "       -0.23325337, -0.24798729, -0.27305618, -0.27595002, -0.31503785,\n",
       "       -0.32309054, -0.32510379, -0.34284544, -0.348566  , -0.34885268,\n",
       "       -0.3695127 , -0.37688549, -0.38844494, -0.40191942, -0.40433158,\n",
       "       -0.40778126, -0.40799422, -0.43061102, -0.46823766, -0.51617245,\n",
       "       -0.54211866, -0.54756004, -0.56507645, -0.56731638, -0.62167451,\n",
       "       -0.62939431, -0.66960961, -0.70721425, -0.75780706, -0.75853418,\n",
       "       -0.77185007, -0.77743287, -0.77993469, -0.79258451, -0.81738613,\n",
       "       -0.89880678, -0.91736652, -0.99680383, -1.05546618, -1.12635592,\n",
       "       -1.16394827, -1.20671074, -1.29563019, -1.30002376, -1.30089558,\n",
       "       -1.33360864, -1.35805555, -1.43278101, -1.44568243, -1.53736569,\n",
       "       -1.70580302, -1.78887553, -1.94775044, -2.01584329, -3.09833342])"
      ]
     },
     "execution_count": 38,
     "metadata": {},
     "output_type": "execute_result"
    }
   ],
   "source": [
    "np.sort(large_arr)[::-1]"
   ]
  },
  {
   "cell_type": "code",
   "execution_count": 39,
   "metadata": {},
   "outputs": [
    {
     "data": {
      "text/plain": [
       "1.9507279902878814"
      ]
     },
     "execution_count": 39,
     "metadata": {},
     "output_type": "execute_result"
    }
   ],
   "source": [
    "np.sort(large_arr)[::-1][int(0.05 * len(large_arr))]"
   ]
  },
  {
   "cell_type": "markdown",
   "metadata": {},
   "source": [
    "len(large_arr)로 array의 길이(150)를 구한뒤 0.05를 곱한 값에 int()를 씌워주면 상위 5%에 해당하는 index를 얻을 수 있다. 내림차순으로 정렬된 array에 적용해주면 그 index에 해당하는 값을 보여줄 것이다."
   ]
  },
  {
   "cell_type": "code",
   "execution_count": 41,
   "metadata": {},
   "outputs": [],
   "source": [
    "names = np.array([\"Charles\", \"Kilho\", \"Hayoung\", \"Charles\", \"Hayoung\", \"Kilho\", \"Kilho\"])\n",
    "ints = np.array([3,3,3,2,2,1,1,4,4])"
   ]
  },
  {
   "cell_type": "markdown",
   "metadata": {},
   "source": [
    "12.uniqueg한 값 뽑아내기"
   ]
  },
  {
   "cell_type": "code",
   "execution_count": 42,
   "metadata": {},
   "outputs": [
    {
     "data": {
      "text/plain": [
       "array(['Charles', 'Hayoung', 'Kilho'], dtype='<U7')"
      ]
     },
     "execution_count": 42,
     "metadata": {},
     "output_type": "execute_result"
    }
   ],
   "source": [
    "np.unique(names)"
   ]
  },
  {
   "cell_type": "code",
   "execution_count": 43,
   "metadata": {},
   "outputs": [
    {
     "data": {
      "text/plain": [
       "array([1, 2, 3, 4])"
      ]
     },
     "execution_count": 43,
     "metadata": {},
     "output_type": "execute_result"
    }
   ],
   "source": [
    "np.unique(ints)"
   ]
  }
 ],
 "metadata": {
  "kernelspec": {
   "display_name": "Python 3",
   "language": "python",
   "name": "python3"
  },
  "language_info": {
   "codemirror_mode": {
    "name": "ipython",
    "version": 3
   },
   "file_extension": ".py",
   "mimetype": "text/x-python",
   "name": "python",
   "nbconvert_exporter": "python",
   "pygments_lexer": "ipython3",
   "version": "3.6.4"
  }
 },
 "nbformat": 4,
 "nbformat_minor": 2
}
