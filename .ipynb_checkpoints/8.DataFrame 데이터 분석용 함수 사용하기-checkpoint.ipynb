{
 "cells": [
  {
   "cell_type": "code",
   "execution_count": 1,
   "metadata": {},
   "outputs": [],
   "source": [
    "import numpy as np\n",
    "import pandas as pd"
   ]
  },
  {
   "cell_type": "code",
   "execution_count": 2,
   "metadata": {},
   "outputs": [],
   "source": [
    "data = [[1.4, np.nan],\n",
    "           [7.1, -4.5],\n",
    "        [np.nan, np.nan],\n",
    "        [0.75, -1.3]]\n",
    "df = pd.DataFrame(data, columns=[\"one\", \"two\"], index=[\"a\", \"b\", \"c\", \"d\"])"
   ]
  },
  {
   "cell_type": "code",
   "execution_count": 3,
   "metadata": {},
   "outputs": [
    {
     "data": {
      "text/html": [
       "<div>\n",
       "<style scoped>\n",
       "    .dataframe tbody tr th:only-of-type {\n",
       "        vertical-align: middle;\n",
       "    }\n",
       "\n",
       "    .dataframe tbody tr th {\n",
       "        vertical-align: top;\n",
       "    }\n",
       "\n",
       "    .dataframe thead th {\n",
       "        text-align: right;\n",
       "    }\n",
       "</style>\n",
       "<table border=\"1\" class=\"dataframe\">\n",
       "  <thead>\n",
       "    <tr style=\"text-align: right;\">\n",
       "      <th></th>\n",
       "      <th>one</th>\n",
       "      <th>two</th>\n",
       "    </tr>\n",
       "  </thead>\n",
       "  <tbody>\n",
       "    <tr>\n",
       "      <th>a</th>\n",
       "      <td>1.40</td>\n",
       "      <td>NaN</td>\n",
       "    </tr>\n",
       "    <tr>\n",
       "      <th>b</th>\n",
       "      <td>7.10</td>\n",
       "      <td>-4.5</td>\n",
       "    </tr>\n",
       "    <tr>\n",
       "      <th>c</th>\n",
       "      <td>NaN</td>\n",
       "      <td>NaN</td>\n",
       "    </tr>\n",
       "    <tr>\n",
       "      <th>d</th>\n",
       "      <td>0.75</td>\n",
       "      <td>-1.3</td>\n",
       "    </tr>\n",
       "  </tbody>\n",
       "</table>\n",
       "</div>"
      ],
      "text/plain": [
       "    one  two\n",
       "a  1.40  NaN\n",
       "b  7.10 -4.5\n",
       "c   NaN  NaN\n",
       "d  0.75 -1.3"
      ]
     },
     "execution_count": 3,
     "metadata": {},
     "output_type": "execute_result"
    }
   ],
   "source": [
    "df"
   ]
  },
  {
   "cell_type": "code",
   "execution_count": 4,
   "metadata": {},
   "outputs": [
    {
     "data": {
      "text/plain": [
       "one    9.25\n",
       "two   -5.80\n",
       "dtype: float64"
      ]
     },
     "execution_count": 4,
     "metadata": {},
     "output_type": "execute_result"
    }
   ],
   "source": [
    "df.sum(axis=0)"
   ]
  },
  {
   "cell_type": "code",
   "execution_count": 5,
   "metadata": {},
   "outputs": [
    {
     "data": {
      "text/plain": [
       "a    1.40\n",
       "b    2.60\n",
       "c    0.00\n",
       "d   -0.55\n",
       "dtype: float64"
      ]
     },
     "execution_count": 5,
     "metadata": {},
     "output_type": "execute_result"
    }
   ],
   "source": [
    "df.sum(axis=1)"
   ]
  },
  {
   "cell_type": "code",
   "execution_count": 6,
   "metadata": {},
   "outputs": [
    {
     "data": {
      "text/plain": [
       "9.25"
      ]
     },
     "execution_count": 6,
     "metadata": {},
     "output_type": "execute_result"
    }
   ],
   "source": [
    "df[\"one\"].sum()"
   ]
  },
  {
   "cell_type": "code",
   "execution_count": 7,
   "metadata": {},
   "outputs": [
    {
     "data": {
      "text/plain": [
       "-0.55"
      ]
     },
     "execution_count": 7,
     "metadata": {},
     "output_type": "execute_result"
    }
   ],
   "source": [
    "df.loc[\"d\"].sum()"
   ]
  },
  {
   "cell_type": "code",
   "execution_count": 8,
   "metadata": {},
   "outputs": [
    {
     "data": {
      "text/plain": [
       "a      NaN\n",
       "b    1.300\n",
       "c      NaN\n",
       "d   -0.275\n",
       "dtype: float64"
      ]
     },
     "execution_count": 8,
     "metadata": {},
     "output_type": "execute_result"
    }
   ],
   "source": [
    "df.mean(axis=1,skipna=False)"
   ]
  },
  {
   "cell_type": "code",
   "execution_count": 9,
   "metadata": {},
   "outputs": [],
   "source": [
    "one_mean = df.mean(axis =0)[\"one\"]"
   ]
  },
  {
   "cell_type": "code",
   "execution_count": 10,
   "metadata": {},
   "outputs": [],
   "source": [
    "two_min = df.min(axis =0)[\"two\"]"
   ]
  },
  {
   "cell_type": "code",
   "execution_count": 11,
   "metadata": {},
   "outputs": [],
   "source": [
    "df[\"one\"] = df[\"one\"].fillna(value = one_mean)"
   ]
  },
  {
   "cell_type": "code",
   "execution_count": 12,
   "metadata": {},
   "outputs": [],
   "source": [
    "df[\"two\"] = df[\"two\"].fillna(value=two_min)"
   ]
  },
  {
   "cell_type": "code",
   "execution_count": 13,
   "metadata": {},
   "outputs": [
    {
     "data": {
      "text/html": [
       "<div>\n",
       "<style scoped>\n",
       "    .dataframe tbody tr th:only-of-type {\n",
       "        vertical-align: middle;\n",
       "    }\n",
       "\n",
       "    .dataframe tbody tr th {\n",
       "        vertical-align: top;\n",
       "    }\n",
       "\n",
       "    .dataframe thead th {\n",
       "        text-align: right;\n",
       "    }\n",
       "</style>\n",
       "<table border=\"1\" class=\"dataframe\">\n",
       "  <thead>\n",
       "    <tr style=\"text-align: right;\">\n",
       "      <th></th>\n",
       "      <th>one</th>\n",
       "      <th>two</th>\n",
       "    </tr>\n",
       "  </thead>\n",
       "  <tbody>\n",
       "    <tr>\n",
       "      <th>a</th>\n",
       "      <td>1.400000</td>\n",
       "      <td>-4.5</td>\n",
       "    </tr>\n",
       "    <tr>\n",
       "      <th>b</th>\n",
       "      <td>7.100000</td>\n",
       "      <td>-4.5</td>\n",
       "    </tr>\n",
       "    <tr>\n",
       "      <th>c</th>\n",
       "      <td>3.083333</td>\n",
       "      <td>-4.5</td>\n",
       "    </tr>\n",
       "    <tr>\n",
       "      <th>d</th>\n",
       "      <td>0.750000</td>\n",
       "      <td>-1.3</td>\n",
       "    </tr>\n",
       "  </tbody>\n",
       "</table>\n",
       "</div>"
      ],
      "text/plain": [
       "        one  two\n",
       "a  1.400000 -4.5\n",
       "b  7.100000 -4.5\n",
       "c  3.083333 -4.5\n",
       "d  0.750000 -1.3"
      ]
     },
     "execution_count": 13,
     "metadata": {},
     "output_type": "execute_result"
    }
   ],
   "source": [
    "df"
   ]
  },
  {
   "cell_type": "code",
   "execution_count": 14,
   "metadata": {},
   "outputs": [],
   "source": [
    "df2 = pd.DataFrame(np.random.randn(6, 4),\n",
    "                   columns=[\"A\", \"B\", \"C\", \"D\"],\n",
    "                   index=pd.date_range(\"20160701\", periods=6))"
   ]
  },
  {
   "cell_type": "code",
   "execution_count": 15,
   "metadata": {},
   "outputs": [
    {
     "data": {
      "text/html": [
       "<div>\n",
       "<style scoped>\n",
       "    .dataframe tbody tr th:only-of-type {\n",
       "        vertical-align: middle;\n",
       "    }\n",
       "\n",
       "    .dataframe tbody tr th {\n",
       "        vertical-align: top;\n",
       "    }\n",
       "\n",
       "    .dataframe thead th {\n",
       "        text-align: right;\n",
       "    }\n",
       "</style>\n",
       "<table border=\"1\" class=\"dataframe\">\n",
       "  <thead>\n",
       "    <tr style=\"text-align: right;\">\n",
       "      <th></th>\n",
       "      <th>A</th>\n",
       "      <th>B</th>\n",
       "      <th>C</th>\n",
       "      <th>D</th>\n",
       "    </tr>\n",
       "  </thead>\n",
       "  <tbody>\n",
       "    <tr>\n",
       "      <th>2016-07-01</th>\n",
       "      <td>-1.438099</td>\n",
       "      <td>-1.792523</td>\n",
       "      <td>0.059451</td>\n",
       "      <td>-0.183934</td>\n",
       "    </tr>\n",
       "    <tr>\n",
       "      <th>2016-07-02</th>\n",
       "      <td>-0.146297</td>\n",
       "      <td>0.825060</td>\n",
       "      <td>-1.185762</td>\n",
       "      <td>0.426656</td>\n",
       "    </tr>\n",
       "    <tr>\n",
       "      <th>2016-07-03</th>\n",
       "      <td>-0.286706</td>\n",
       "      <td>-2.025417</td>\n",
       "      <td>-1.723997</td>\n",
       "      <td>-0.352290</td>\n",
       "    </tr>\n",
       "    <tr>\n",
       "      <th>2016-07-04</th>\n",
       "      <td>0.310562</td>\n",
       "      <td>0.161367</td>\n",
       "      <td>-0.626619</td>\n",
       "      <td>0.575863</td>\n",
       "    </tr>\n",
       "    <tr>\n",
       "      <th>2016-07-05</th>\n",
       "      <td>-0.850710</td>\n",
       "      <td>0.146366</td>\n",
       "      <td>0.126780</td>\n",
       "      <td>0.275367</td>\n",
       "    </tr>\n",
       "    <tr>\n",
       "      <th>2016-07-06</th>\n",
       "      <td>1.007167</td>\n",
       "      <td>-2.006855</td>\n",
       "      <td>0.007875</td>\n",
       "      <td>0.675303</td>\n",
       "    </tr>\n",
       "  </tbody>\n",
       "</table>\n",
       "</div>"
      ],
      "text/plain": [
       "                   A         B         C         D\n",
       "2016-07-01 -1.438099 -1.792523  0.059451 -0.183934\n",
       "2016-07-02 -0.146297  0.825060 -1.185762  0.426656\n",
       "2016-07-03 -0.286706 -2.025417 -1.723997 -0.352290\n",
       "2016-07-04  0.310562  0.161367 -0.626619  0.575863\n",
       "2016-07-05 -0.850710  0.146366  0.126780  0.275367\n",
       "2016-07-06  1.007167 -2.006855  0.007875  0.675303"
      ]
     },
     "execution_count": 15,
     "metadata": {},
     "output_type": "execute_result"
    }
   ],
   "source": [
    "df2"
   ]
  },
  {
   "cell_type": "code",
   "execution_count": 17,
   "metadata": {},
   "outputs": [
    {
     "data": {
      "text/plain": [
       "-0.028029599359564054"
      ]
     },
     "execution_count": 17,
     "metadata": {},
     "output_type": "execute_result"
    }
   ],
   "source": [
    "df2[\"A\"].corr(df2[\"B\"]) #A열 과 B여의 상관계수 값 계산"
   ]
  },
  {
   "cell_type": "code",
   "execution_count": 18,
   "metadata": {},
   "outputs": [
    {
     "data": {
      "text/plain": [
       "-0.09888133678780558"
      ]
     },
     "execution_count": 18,
     "metadata": {},
     "output_type": "execute_result"
    }
   ],
   "source": [
    "df2[\"A\"].cov(df2[\"C\"]) #공분산 계산"
   ]
  },
  {
   "cell_type": "code",
   "execution_count": 19,
   "metadata": {},
   "outputs": [
    {
     "data": {
      "text/html": [
       "<div>\n",
       "<style scoped>\n",
       "    .dataframe tbody tr th:only-of-type {\n",
       "        vertical-align: middle;\n",
       "    }\n",
       "\n",
       "    .dataframe tbody tr th {\n",
       "        vertical-align: top;\n",
       "    }\n",
       "\n",
       "    .dataframe thead th {\n",
       "        text-align: right;\n",
       "    }\n",
       "</style>\n",
       "<table border=\"1\" class=\"dataframe\">\n",
       "  <thead>\n",
       "    <tr style=\"text-align: right;\">\n",
       "      <th></th>\n",
       "      <th>A</th>\n",
       "      <th>B</th>\n",
       "      <th>C</th>\n",
       "      <th>D</th>\n",
       "    </tr>\n",
       "  </thead>\n",
       "  <tbody>\n",
       "    <tr>\n",
       "      <th>A</th>\n",
       "      <td>1.000000</td>\n",
       "      <td>-0.028030</td>\n",
       "      <td>-0.150646</td>\n",
       "      <td>0.704556</td>\n",
       "    </tr>\n",
       "    <tr>\n",
       "      <th>B</th>\n",
       "      <td>-0.028030</td>\n",
       "      <td>1.000000</td>\n",
       "      <td>-0.061505</td>\n",
       "      <td>0.474243</td>\n",
       "    </tr>\n",
       "    <tr>\n",
       "      <th>C</th>\n",
       "      <td>-0.150646</td>\n",
       "      <td>-0.061505</td>\n",
       "      <td>1.000000</td>\n",
       "      <td>0.350557</td>\n",
       "    </tr>\n",
       "    <tr>\n",
       "      <th>D</th>\n",
       "      <td>0.704556</td>\n",
       "      <td>0.474243</td>\n",
       "      <td>0.350557</td>\n",
       "      <td>1.000000</td>\n",
       "    </tr>\n",
       "  </tbody>\n",
       "</table>\n",
       "</div>"
      ],
      "text/plain": [
       "          A         B         C         D\n",
       "A  1.000000 -0.028030 -0.150646  0.704556\n",
       "B -0.028030  1.000000 -0.061505  0.474243\n",
       "C -0.150646 -0.061505  1.000000  0.350557\n",
       "D  0.704556  0.474243  0.350557  1.000000"
      ]
     },
     "execution_count": 19,
     "metadata": {},
     "output_type": "execute_result"
    }
   ],
   "source": [
    "df2.corr() #모든 열간의 상관계쑤"
   ]
  },
  {
   "cell_type": "code",
   "execution_count": 20,
   "metadata": {},
   "outputs": [
    {
     "data": {
      "text/html": [
       "<div>\n",
       "<style scoped>\n",
       "    .dataframe tbody tr th:only-of-type {\n",
       "        vertical-align: middle;\n",
       "    }\n",
       "\n",
       "    .dataframe tbody tr th {\n",
       "        vertical-align: top;\n",
       "    }\n",
       "\n",
       "    .dataframe thead th {\n",
       "        text-align: right;\n",
       "    }\n",
       "</style>\n",
       "<table border=\"1\" class=\"dataframe\">\n",
       "  <thead>\n",
       "    <tr style=\"text-align: right;\">\n",
       "      <th></th>\n",
       "      <th>A</th>\n",
       "      <th>B</th>\n",
       "      <th>C</th>\n",
       "      <th>D</th>\n",
       "    </tr>\n",
       "  </thead>\n",
       "  <tbody>\n",
       "    <tr>\n",
       "      <th>A</th>\n",
       "      <td>0.735540</td>\n",
       "      <td>-0.031162</td>\n",
       "      <td>-0.098881</td>\n",
       "      <td>0.251883</td>\n",
       "    </tr>\n",
       "    <tr>\n",
       "      <th>B</th>\n",
       "      <td>-0.031162</td>\n",
       "      <td>1.680392</td>\n",
       "      <td>-0.061020</td>\n",
       "      <td>0.256264</td>\n",
       "    </tr>\n",
       "    <tr>\n",
       "      <th>C</th>\n",
       "      <td>-0.098881</td>\n",
       "      <td>-0.061020</td>\n",
       "      <td>0.585744</td>\n",
       "      <td>0.111839</td>\n",
       "    </tr>\n",
       "    <tr>\n",
       "      <th>D</th>\n",
       "      <td>0.251883</td>\n",
       "      <td>0.256264</td>\n",
       "      <td>0.111839</td>\n",
       "      <td>0.173765</td>\n",
       "    </tr>\n",
       "  </tbody>\n",
       "</table>\n",
       "</div>"
      ],
      "text/plain": [
       "          A         B         C         D\n",
       "A  0.735540 -0.031162 -0.098881  0.251883\n",
       "B -0.031162  1.680392 -0.061020  0.256264\n",
       "C -0.098881 -0.061020  0.585744  0.111839\n",
       "D  0.251883  0.256264  0.111839  0.173765"
      ]
     },
     "execution_count": 20,
     "metadata": {},
     "output_type": "execute_result"
    }
   ],
   "source": [
    "df2.cov() #모든 열간의 공분산"
   ]
  },
  {
   "cell_type": "code",
   "execution_count": 21,
   "metadata": {},
   "outputs": [],
   "source": [
    "dates = df2.index\n",
    "random_dates = np.random.permutation(dates)\n",
    "df2 = df2.reindex(index=random_dates, columns=[\"D\", \"B\", \"C\", \"A\"])"
   ]
  },
  {
   "cell_type": "code",
   "execution_count": 22,
   "metadata": {},
   "outputs": [
    {
     "data": {
      "text/html": [
       "<div>\n",
       "<style scoped>\n",
       "    .dataframe tbody tr th:only-of-type {\n",
       "        vertical-align: middle;\n",
       "    }\n",
       "\n",
       "    .dataframe tbody tr th {\n",
       "        vertical-align: top;\n",
       "    }\n",
       "\n",
       "    .dataframe thead th {\n",
       "        text-align: right;\n",
       "    }\n",
       "</style>\n",
       "<table border=\"1\" class=\"dataframe\">\n",
       "  <thead>\n",
       "    <tr style=\"text-align: right;\">\n",
       "      <th></th>\n",
       "      <th>D</th>\n",
       "      <th>B</th>\n",
       "      <th>C</th>\n",
       "      <th>A</th>\n",
       "    </tr>\n",
       "  </thead>\n",
       "  <tbody>\n",
       "    <tr>\n",
       "      <th>2016-07-01</th>\n",
       "      <td>-0.183934</td>\n",
       "      <td>-1.792523</td>\n",
       "      <td>0.059451</td>\n",
       "      <td>-1.438099</td>\n",
       "    </tr>\n",
       "    <tr>\n",
       "      <th>2016-07-03</th>\n",
       "      <td>-0.352290</td>\n",
       "      <td>-2.025417</td>\n",
       "      <td>-1.723997</td>\n",
       "      <td>-0.286706</td>\n",
       "    </tr>\n",
       "    <tr>\n",
       "      <th>2016-07-02</th>\n",
       "      <td>0.426656</td>\n",
       "      <td>0.825060</td>\n",
       "      <td>-1.185762</td>\n",
       "      <td>-0.146297</td>\n",
       "    </tr>\n",
       "    <tr>\n",
       "      <th>2016-07-04</th>\n",
       "      <td>0.575863</td>\n",
       "      <td>0.161367</td>\n",
       "      <td>-0.626619</td>\n",
       "      <td>0.310562</td>\n",
       "    </tr>\n",
       "    <tr>\n",
       "      <th>2016-07-06</th>\n",
       "      <td>0.675303</td>\n",
       "      <td>-2.006855</td>\n",
       "      <td>0.007875</td>\n",
       "      <td>1.007167</td>\n",
       "    </tr>\n",
       "    <tr>\n",
       "      <th>2016-07-05</th>\n",
       "      <td>0.275367</td>\n",
       "      <td>0.146366</td>\n",
       "      <td>0.126780</td>\n",
       "      <td>-0.850710</td>\n",
       "    </tr>\n",
       "  </tbody>\n",
       "</table>\n",
       "</div>"
      ],
      "text/plain": [
       "                   D         B         C         A\n",
       "2016-07-01 -0.183934 -1.792523  0.059451 -1.438099\n",
       "2016-07-03 -0.352290 -2.025417 -1.723997 -0.286706\n",
       "2016-07-02  0.426656  0.825060 -1.185762 -0.146297\n",
       "2016-07-04  0.575863  0.161367 -0.626619  0.310562\n",
       "2016-07-06  0.675303 -2.006855  0.007875  1.007167\n",
       "2016-07-05  0.275367  0.146366  0.126780 -0.850710"
      ]
     },
     "execution_count": 22,
     "metadata": {},
     "output_type": "execute_result"
    }
   ],
   "source": [
    "df2 #index기준 정렬 방법들"
   ]
  },
  {
   "cell_type": "code",
   "execution_count": 23,
   "metadata": {},
   "outputs": [
    {
     "data": {
      "text/html": [
       "<div>\n",
       "<style scoped>\n",
       "    .dataframe tbody tr th:only-of-type {\n",
       "        vertical-align: middle;\n",
       "    }\n",
       "\n",
       "    .dataframe tbody tr th {\n",
       "        vertical-align: top;\n",
       "    }\n",
       "\n",
       "    .dataframe thead th {\n",
       "        text-align: right;\n",
       "    }\n",
       "</style>\n",
       "<table border=\"1\" class=\"dataframe\">\n",
       "  <thead>\n",
       "    <tr style=\"text-align: right;\">\n",
       "      <th></th>\n",
       "      <th>D</th>\n",
       "      <th>B</th>\n",
       "      <th>C</th>\n",
       "      <th>A</th>\n",
       "    </tr>\n",
       "  </thead>\n",
       "  <tbody>\n",
       "    <tr>\n",
       "      <th>2016-07-01</th>\n",
       "      <td>-0.183934</td>\n",
       "      <td>-1.792523</td>\n",
       "      <td>0.059451</td>\n",
       "      <td>-1.438099</td>\n",
       "    </tr>\n",
       "    <tr>\n",
       "      <th>2016-07-02</th>\n",
       "      <td>0.426656</td>\n",
       "      <td>0.825060</td>\n",
       "      <td>-1.185762</td>\n",
       "      <td>-0.146297</td>\n",
       "    </tr>\n",
       "    <tr>\n",
       "      <th>2016-07-03</th>\n",
       "      <td>-0.352290</td>\n",
       "      <td>-2.025417</td>\n",
       "      <td>-1.723997</td>\n",
       "      <td>-0.286706</td>\n",
       "    </tr>\n",
       "    <tr>\n",
       "      <th>2016-07-04</th>\n",
       "      <td>0.575863</td>\n",
       "      <td>0.161367</td>\n",
       "      <td>-0.626619</td>\n",
       "      <td>0.310562</td>\n",
       "    </tr>\n",
       "    <tr>\n",
       "      <th>2016-07-05</th>\n",
       "      <td>0.275367</td>\n",
       "      <td>0.146366</td>\n",
       "      <td>0.126780</td>\n",
       "      <td>-0.850710</td>\n",
       "    </tr>\n",
       "    <tr>\n",
       "      <th>2016-07-06</th>\n",
       "      <td>0.675303</td>\n",
       "      <td>-2.006855</td>\n",
       "      <td>0.007875</td>\n",
       "      <td>1.007167</td>\n",
       "    </tr>\n",
       "  </tbody>\n",
       "</table>\n",
       "</div>"
      ],
      "text/plain": [
       "                   D         B         C         A\n",
       "2016-07-01 -0.183934 -1.792523  0.059451 -1.438099\n",
       "2016-07-02  0.426656  0.825060 -1.185762 -0.146297\n",
       "2016-07-03 -0.352290 -2.025417 -1.723997 -0.286706\n",
       "2016-07-04  0.575863  0.161367 -0.626619  0.310562\n",
       "2016-07-05  0.275367  0.146366  0.126780 -0.850710\n",
       "2016-07-06  0.675303 -2.006855  0.007875  1.007167"
      ]
     },
     "execution_count": 23,
     "metadata": {},
     "output_type": "execute_result"
    }
   ],
   "source": [
    "df2.sort_index(axis=0)"
   ]
  },
  {
   "cell_type": "code",
   "execution_count": 26,
   "metadata": {},
   "outputs": [
    {
     "data": {
      "text/html": [
       "<div>\n",
       "<style scoped>\n",
       "    .dataframe tbody tr th:only-of-type {\n",
       "        vertical-align: middle;\n",
       "    }\n",
       "\n",
       "    .dataframe tbody tr th {\n",
       "        vertical-align: top;\n",
       "    }\n",
       "\n",
       "    .dataframe thead th {\n",
       "        text-align: right;\n",
       "    }\n",
       "</style>\n",
       "<table border=\"1\" class=\"dataframe\">\n",
       "  <thead>\n",
       "    <tr style=\"text-align: right;\">\n",
       "      <th></th>\n",
       "      <th>A</th>\n",
       "      <th>B</th>\n",
       "      <th>C</th>\n",
       "      <th>D</th>\n",
       "    </tr>\n",
       "  </thead>\n",
       "  <tbody>\n",
       "    <tr>\n",
       "      <th>2016-07-01</th>\n",
       "      <td>-1.438099</td>\n",
       "      <td>-1.792523</td>\n",
       "      <td>0.059451</td>\n",
       "      <td>-0.183934</td>\n",
       "    </tr>\n",
       "    <tr>\n",
       "      <th>2016-07-03</th>\n",
       "      <td>-0.286706</td>\n",
       "      <td>-2.025417</td>\n",
       "      <td>-1.723997</td>\n",
       "      <td>-0.352290</td>\n",
       "    </tr>\n",
       "    <tr>\n",
       "      <th>2016-07-02</th>\n",
       "      <td>-0.146297</td>\n",
       "      <td>0.825060</td>\n",
       "      <td>-1.185762</td>\n",
       "      <td>0.426656</td>\n",
       "    </tr>\n",
       "    <tr>\n",
       "      <th>2016-07-04</th>\n",
       "      <td>0.310562</td>\n",
       "      <td>0.161367</td>\n",
       "      <td>-0.626619</td>\n",
       "      <td>0.575863</td>\n",
       "    </tr>\n",
       "    <tr>\n",
       "      <th>2016-07-06</th>\n",
       "      <td>1.007167</td>\n",
       "      <td>-2.006855</td>\n",
       "      <td>0.007875</td>\n",
       "      <td>0.675303</td>\n",
       "    </tr>\n",
       "    <tr>\n",
       "      <th>2016-07-05</th>\n",
       "      <td>-0.850710</td>\n",
       "      <td>0.146366</td>\n",
       "      <td>0.126780</td>\n",
       "      <td>0.275367</td>\n",
       "    </tr>\n",
       "  </tbody>\n",
       "</table>\n",
       "</div>"
      ],
      "text/plain": [
       "                   A         B         C         D\n",
       "2016-07-01 -1.438099 -1.792523  0.059451 -0.183934\n",
       "2016-07-03 -0.286706 -2.025417 -1.723997 -0.352290\n",
       "2016-07-02 -0.146297  0.825060 -1.185762  0.426656\n",
       "2016-07-04  0.310562  0.161367 -0.626619  0.575863\n",
       "2016-07-06  1.007167 -2.006855  0.007875  0.675303\n",
       "2016-07-05 -0.850710  0.146366  0.126780  0.275367"
      ]
     },
     "execution_count": 26,
     "metadata": {},
     "output_type": "execute_result"
    }
   ],
   "source": [
    "df2.sort_index(axis=1)"
   ]
  },
  {
   "cell_type": "code",
   "execution_count": 29,
   "metadata": {},
   "outputs": [
    {
     "data": {
      "text/html": [
       "<div>\n",
       "<style scoped>\n",
       "    .dataframe tbody tr th:only-of-type {\n",
       "        vertical-align: middle;\n",
       "    }\n",
       "\n",
       "    .dataframe tbody tr th {\n",
       "        vertical-align: top;\n",
       "    }\n",
       "\n",
       "    .dataframe thead th {\n",
       "        text-align: right;\n",
       "    }\n",
       "</style>\n",
       "<table border=\"1\" class=\"dataframe\">\n",
       "  <thead>\n",
       "    <tr style=\"text-align: right;\">\n",
       "      <th></th>\n",
       "      <th>D</th>\n",
       "      <th>B</th>\n",
       "      <th>C</th>\n",
       "      <th>A</th>\n",
       "    </tr>\n",
       "  </thead>\n",
       "  <tbody>\n",
       "    <tr>\n",
       "      <th>2016-07-06</th>\n",
       "      <td>0.675303</td>\n",
       "      <td>-2.006855</td>\n",
       "      <td>0.007875</td>\n",
       "      <td>1.007167</td>\n",
       "    </tr>\n",
       "    <tr>\n",
       "      <th>2016-07-05</th>\n",
       "      <td>0.275367</td>\n",
       "      <td>0.146366</td>\n",
       "      <td>0.126780</td>\n",
       "      <td>-0.850710</td>\n",
       "    </tr>\n",
       "    <tr>\n",
       "      <th>2016-07-04</th>\n",
       "      <td>0.575863</td>\n",
       "      <td>0.161367</td>\n",
       "      <td>-0.626619</td>\n",
       "      <td>0.310562</td>\n",
       "    </tr>\n",
       "    <tr>\n",
       "      <th>2016-07-03</th>\n",
       "      <td>-0.352290</td>\n",
       "      <td>-2.025417</td>\n",
       "      <td>-1.723997</td>\n",
       "      <td>-0.286706</td>\n",
       "    </tr>\n",
       "    <tr>\n",
       "      <th>2016-07-02</th>\n",
       "      <td>0.426656</td>\n",
       "      <td>0.825060</td>\n",
       "      <td>-1.185762</td>\n",
       "      <td>-0.146297</td>\n",
       "    </tr>\n",
       "    <tr>\n",
       "      <th>2016-07-01</th>\n",
       "      <td>-0.183934</td>\n",
       "      <td>-1.792523</td>\n",
       "      <td>0.059451</td>\n",
       "      <td>-1.438099</td>\n",
       "    </tr>\n",
       "  </tbody>\n",
       "</table>\n",
       "</div>"
      ],
      "text/plain": [
       "                   D         B         C         A\n",
       "2016-07-06  0.675303 -2.006855  0.007875  1.007167\n",
       "2016-07-05  0.275367  0.146366  0.126780 -0.850710\n",
       "2016-07-04  0.575863  0.161367 -0.626619  0.310562\n",
       "2016-07-03 -0.352290 -2.025417 -1.723997 -0.286706\n",
       "2016-07-02  0.426656  0.825060 -1.185762 -0.146297\n",
       "2016-07-01 -0.183934 -1.792523  0.059451 -1.438099"
      ]
     },
     "execution_count": 29,
     "metadata": {},
     "output_type": "execute_result"
    }
   ],
   "source": [
    "df2.sort_index(axis=0, ascending=False)"
   ]
  },
  {
   "cell_type": "code",
   "execution_count": 30,
   "metadata": {},
   "outputs": [
    {
     "data": {
      "text/html": [
       "<div>\n",
       "<style scoped>\n",
       "    .dataframe tbody tr th:only-of-type {\n",
       "        vertical-align: middle;\n",
       "    }\n",
       "\n",
       "    .dataframe tbody tr th {\n",
       "        vertical-align: top;\n",
       "    }\n",
       "\n",
       "    .dataframe thead th {\n",
       "        text-align: right;\n",
       "    }\n",
       "</style>\n",
       "<table border=\"1\" class=\"dataframe\">\n",
       "  <thead>\n",
       "    <tr style=\"text-align: right;\">\n",
       "      <th></th>\n",
       "      <th>D</th>\n",
       "      <th>C</th>\n",
       "      <th>B</th>\n",
       "      <th>A</th>\n",
       "    </tr>\n",
       "  </thead>\n",
       "  <tbody>\n",
       "    <tr>\n",
       "      <th>2016-07-01</th>\n",
       "      <td>-0.183934</td>\n",
       "      <td>0.059451</td>\n",
       "      <td>-1.792523</td>\n",
       "      <td>-1.438099</td>\n",
       "    </tr>\n",
       "    <tr>\n",
       "      <th>2016-07-03</th>\n",
       "      <td>-0.352290</td>\n",
       "      <td>-1.723997</td>\n",
       "      <td>-2.025417</td>\n",
       "      <td>-0.286706</td>\n",
       "    </tr>\n",
       "    <tr>\n",
       "      <th>2016-07-02</th>\n",
       "      <td>0.426656</td>\n",
       "      <td>-1.185762</td>\n",
       "      <td>0.825060</td>\n",
       "      <td>-0.146297</td>\n",
       "    </tr>\n",
       "    <tr>\n",
       "      <th>2016-07-04</th>\n",
       "      <td>0.575863</td>\n",
       "      <td>-0.626619</td>\n",
       "      <td>0.161367</td>\n",
       "      <td>0.310562</td>\n",
       "    </tr>\n",
       "    <tr>\n",
       "      <th>2016-07-06</th>\n",
       "      <td>0.675303</td>\n",
       "      <td>0.007875</td>\n",
       "      <td>-2.006855</td>\n",
       "      <td>1.007167</td>\n",
       "    </tr>\n",
       "    <tr>\n",
       "      <th>2016-07-05</th>\n",
       "      <td>0.275367</td>\n",
       "      <td>0.126780</td>\n",
       "      <td>0.146366</td>\n",
       "      <td>-0.850710</td>\n",
       "    </tr>\n",
       "  </tbody>\n",
       "</table>\n",
       "</div>"
      ],
      "text/plain": [
       "                   D         C         B         A\n",
       "2016-07-01 -0.183934  0.059451 -1.792523 -1.438099\n",
       "2016-07-03 -0.352290 -1.723997 -2.025417 -0.286706\n",
       "2016-07-02  0.426656 -1.185762  0.825060 -0.146297\n",
       "2016-07-04  0.575863 -0.626619  0.161367  0.310562\n",
       "2016-07-06  0.675303  0.007875 -2.006855  1.007167\n",
       "2016-07-05  0.275367  0.126780  0.146366 -0.850710"
      ]
     },
     "execution_count": 30,
     "metadata": {},
     "output_type": "execute_result"
    }
   ],
   "source": [
    "df2.sort_index(axis=1, ascending=False)"
   ]
  },
  {
   "cell_type": "code",
   "execution_count": 31,
   "metadata": {},
   "outputs": [
    {
     "data": {
      "text/html": [
       "<div>\n",
       "<style scoped>\n",
       "    .dataframe tbody tr th:only-of-type {\n",
       "        vertical-align: middle;\n",
       "    }\n",
       "\n",
       "    .dataframe tbody tr th {\n",
       "        vertical-align: top;\n",
       "    }\n",
       "\n",
       "    .dataframe thead th {\n",
       "        text-align: right;\n",
       "    }\n",
       "</style>\n",
       "<table border=\"1\" class=\"dataframe\">\n",
       "  <thead>\n",
       "    <tr style=\"text-align: right;\">\n",
       "      <th></th>\n",
       "      <th>D</th>\n",
       "      <th>B</th>\n",
       "      <th>C</th>\n",
       "      <th>A</th>\n",
       "    </tr>\n",
       "  </thead>\n",
       "  <tbody>\n",
       "    <tr>\n",
       "      <th>2016-07-01</th>\n",
       "      <td>-0.183934</td>\n",
       "      <td>-1.792523</td>\n",
       "      <td>0.059451</td>\n",
       "      <td>-1.438099</td>\n",
       "    </tr>\n",
       "    <tr>\n",
       "      <th>2016-07-03</th>\n",
       "      <td>-0.352290</td>\n",
       "      <td>-2.025417</td>\n",
       "      <td>-1.723997</td>\n",
       "      <td>-0.286706</td>\n",
       "    </tr>\n",
       "    <tr>\n",
       "      <th>2016-07-02</th>\n",
       "      <td>0.426656</td>\n",
       "      <td>0.825060</td>\n",
       "      <td>-1.185762</td>\n",
       "      <td>-0.146297</td>\n",
       "    </tr>\n",
       "    <tr>\n",
       "      <th>2016-07-04</th>\n",
       "      <td>0.575863</td>\n",
       "      <td>0.161367</td>\n",
       "      <td>-0.626619</td>\n",
       "      <td>0.310562</td>\n",
       "    </tr>\n",
       "    <tr>\n",
       "      <th>2016-07-06</th>\n",
       "      <td>0.675303</td>\n",
       "      <td>-2.006855</td>\n",
       "      <td>0.007875</td>\n",
       "      <td>1.007167</td>\n",
       "    </tr>\n",
       "    <tr>\n",
       "      <th>2016-07-05</th>\n",
       "      <td>0.275367</td>\n",
       "      <td>0.146366</td>\n",
       "      <td>0.126780</td>\n",
       "      <td>-0.850710</td>\n",
       "    </tr>\n",
       "  </tbody>\n",
       "</table>\n",
       "</div>"
      ],
      "text/plain": [
       "                   D         B         C         A\n",
       "2016-07-01 -0.183934 -1.792523  0.059451 -1.438099\n",
       "2016-07-03 -0.352290 -2.025417 -1.723997 -0.286706\n",
       "2016-07-02  0.426656  0.825060 -1.185762 -0.146297\n",
       "2016-07-04  0.575863  0.161367 -0.626619  0.310562\n",
       "2016-07-06  0.675303 -2.006855  0.007875  1.007167\n",
       "2016-07-05  0.275367  0.146366  0.126780 -0.850710"
      ]
     },
     "execution_count": 31,
     "metadata": {},
     "output_type": "execute_result"
    }
   ],
   "source": [
    "df2 #값기준 정렬 방법"
   ]
  },
  {
   "cell_type": "code",
   "execution_count": 32,
   "metadata": {},
   "outputs": [
    {
     "data": {
      "text/html": [
       "<div>\n",
       "<style scoped>\n",
       "    .dataframe tbody tr th:only-of-type {\n",
       "        vertical-align: middle;\n",
       "    }\n",
       "\n",
       "    .dataframe tbody tr th {\n",
       "        vertical-align: top;\n",
       "    }\n",
       "\n",
       "    .dataframe thead th {\n",
       "        text-align: right;\n",
       "    }\n",
       "</style>\n",
       "<table border=\"1\" class=\"dataframe\">\n",
       "  <thead>\n",
       "    <tr style=\"text-align: right;\">\n",
       "      <th></th>\n",
       "      <th>D</th>\n",
       "      <th>B</th>\n",
       "      <th>C</th>\n",
       "      <th>A</th>\n",
       "    </tr>\n",
       "  </thead>\n",
       "  <tbody>\n",
       "    <tr>\n",
       "      <th>2016-07-03</th>\n",
       "      <td>-0.352290</td>\n",
       "      <td>-2.025417</td>\n",
       "      <td>-1.723997</td>\n",
       "      <td>-0.286706</td>\n",
       "    </tr>\n",
       "    <tr>\n",
       "      <th>2016-07-01</th>\n",
       "      <td>-0.183934</td>\n",
       "      <td>-1.792523</td>\n",
       "      <td>0.059451</td>\n",
       "      <td>-1.438099</td>\n",
       "    </tr>\n",
       "    <tr>\n",
       "      <th>2016-07-05</th>\n",
       "      <td>0.275367</td>\n",
       "      <td>0.146366</td>\n",
       "      <td>0.126780</td>\n",
       "      <td>-0.850710</td>\n",
       "    </tr>\n",
       "    <tr>\n",
       "      <th>2016-07-02</th>\n",
       "      <td>0.426656</td>\n",
       "      <td>0.825060</td>\n",
       "      <td>-1.185762</td>\n",
       "      <td>-0.146297</td>\n",
       "    </tr>\n",
       "    <tr>\n",
       "      <th>2016-07-04</th>\n",
       "      <td>0.575863</td>\n",
       "      <td>0.161367</td>\n",
       "      <td>-0.626619</td>\n",
       "      <td>0.310562</td>\n",
       "    </tr>\n",
       "    <tr>\n",
       "      <th>2016-07-06</th>\n",
       "      <td>0.675303</td>\n",
       "      <td>-2.006855</td>\n",
       "      <td>0.007875</td>\n",
       "      <td>1.007167</td>\n",
       "    </tr>\n",
       "  </tbody>\n",
       "</table>\n",
       "</div>"
      ],
      "text/plain": [
       "                   D         B         C         A\n",
       "2016-07-03 -0.352290 -2.025417 -1.723997 -0.286706\n",
       "2016-07-01 -0.183934 -1.792523  0.059451 -1.438099\n",
       "2016-07-05  0.275367  0.146366  0.126780 -0.850710\n",
       "2016-07-02  0.426656  0.825060 -1.185762 -0.146297\n",
       "2016-07-04  0.575863  0.161367 -0.626619  0.310562\n",
       "2016-07-06  0.675303 -2.006855  0.007875  1.007167"
      ]
     },
     "execution_count": 32,
     "metadata": {},
     "output_type": "execute_result"
    }
   ],
   "source": [
    "df2.sort_values(by=\"D\")"
   ]
  },
  {
   "cell_type": "code",
   "execution_count": 33,
   "metadata": {},
   "outputs": [
    {
     "data": {
      "text/html": [
       "<div>\n",
       "<style scoped>\n",
       "    .dataframe tbody tr th:only-of-type {\n",
       "        vertical-align: middle;\n",
       "    }\n",
       "\n",
       "    .dataframe tbody tr th {\n",
       "        vertical-align: top;\n",
       "    }\n",
       "\n",
       "    .dataframe thead th {\n",
       "        text-align: right;\n",
       "    }\n",
       "</style>\n",
       "<table border=\"1\" class=\"dataframe\">\n",
       "  <thead>\n",
       "    <tr style=\"text-align: right;\">\n",
       "      <th></th>\n",
       "      <th>D</th>\n",
       "      <th>B</th>\n",
       "      <th>C</th>\n",
       "      <th>A</th>\n",
       "    </tr>\n",
       "  </thead>\n",
       "  <tbody>\n",
       "    <tr>\n",
       "      <th>2016-07-06</th>\n",
       "      <td>0.675303</td>\n",
       "      <td>-2.006855</td>\n",
       "      <td>0.007875</td>\n",
       "      <td>1.007167</td>\n",
       "    </tr>\n",
       "    <tr>\n",
       "      <th>2016-07-04</th>\n",
       "      <td>0.575863</td>\n",
       "      <td>0.161367</td>\n",
       "      <td>-0.626619</td>\n",
       "      <td>0.310562</td>\n",
       "    </tr>\n",
       "    <tr>\n",
       "      <th>2016-07-02</th>\n",
       "      <td>0.426656</td>\n",
       "      <td>0.825060</td>\n",
       "      <td>-1.185762</td>\n",
       "      <td>-0.146297</td>\n",
       "    </tr>\n",
       "    <tr>\n",
       "      <th>2016-07-05</th>\n",
       "      <td>0.275367</td>\n",
       "      <td>0.146366</td>\n",
       "      <td>0.126780</td>\n",
       "      <td>-0.850710</td>\n",
       "    </tr>\n",
       "    <tr>\n",
       "      <th>2016-07-01</th>\n",
       "      <td>-0.183934</td>\n",
       "      <td>-1.792523</td>\n",
       "      <td>0.059451</td>\n",
       "      <td>-1.438099</td>\n",
       "    </tr>\n",
       "    <tr>\n",
       "      <th>2016-07-03</th>\n",
       "      <td>-0.352290</td>\n",
       "      <td>-2.025417</td>\n",
       "      <td>-1.723997</td>\n",
       "      <td>-0.286706</td>\n",
       "    </tr>\n",
       "  </tbody>\n",
       "</table>\n",
       "</div>"
      ],
      "text/plain": [
       "                   D         B         C         A\n",
       "2016-07-06  0.675303 -2.006855  0.007875  1.007167\n",
       "2016-07-04  0.575863  0.161367 -0.626619  0.310562\n",
       "2016-07-02  0.426656  0.825060 -1.185762 -0.146297\n",
       "2016-07-05  0.275367  0.146366  0.126780 -0.850710\n",
       "2016-07-01 -0.183934 -1.792523  0.059451 -1.438099\n",
       "2016-07-03 -0.352290 -2.025417 -1.723997 -0.286706"
      ]
     },
     "execution_count": 33,
     "metadata": {},
     "output_type": "execute_result"
    }
   ],
   "source": [
    "df2.sort_values(by=\"D\", ascending=False)"
   ]
  },
  {
   "cell_type": "code",
   "execution_count": 34,
   "metadata": {},
   "outputs": [],
   "source": [
    "df2[\"E\"] = np.random.randint(0, 6, size=6)\n",
    "df2[\"F\"] = [\"alpha\", \"beta\", \"gamma\", \"gamma\", \"alpha\", \"gamma\"]"
   ]
  },
  {
   "cell_type": "code",
   "execution_count": 35,
   "metadata": {},
   "outputs": [
    {
     "data": {
      "text/html": [
       "<div>\n",
       "<style scoped>\n",
       "    .dataframe tbody tr th:only-of-type {\n",
       "        vertical-align: middle;\n",
       "    }\n",
       "\n",
       "    .dataframe tbody tr th {\n",
       "        vertical-align: top;\n",
       "    }\n",
       "\n",
       "    .dataframe thead th {\n",
       "        text-align: right;\n",
       "    }\n",
       "</style>\n",
       "<table border=\"1\" class=\"dataframe\">\n",
       "  <thead>\n",
       "    <tr style=\"text-align: right;\">\n",
       "      <th></th>\n",
       "      <th>D</th>\n",
       "      <th>B</th>\n",
       "      <th>C</th>\n",
       "      <th>A</th>\n",
       "      <th>E</th>\n",
       "      <th>F</th>\n",
       "    </tr>\n",
       "  </thead>\n",
       "  <tbody>\n",
       "    <tr>\n",
       "      <th>2016-07-01</th>\n",
       "      <td>-0.183934</td>\n",
       "      <td>-1.792523</td>\n",
       "      <td>0.059451</td>\n",
       "      <td>-1.438099</td>\n",
       "      <td>1</td>\n",
       "      <td>alpha</td>\n",
       "    </tr>\n",
       "    <tr>\n",
       "      <th>2016-07-03</th>\n",
       "      <td>-0.352290</td>\n",
       "      <td>-2.025417</td>\n",
       "      <td>-1.723997</td>\n",
       "      <td>-0.286706</td>\n",
       "      <td>3</td>\n",
       "      <td>beta</td>\n",
       "    </tr>\n",
       "    <tr>\n",
       "      <th>2016-07-02</th>\n",
       "      <td>0.426656</td>\n",
       "      <td>0.825060</td>\n",
       "      <td>-1.185762</td>\n",
       "      <td>-0.146297</td>\n",
       "      <td>4</td>\n",
       "      <td>gamma</td>\n",
       "    </tr>\n",
       "    <tr>\n",
       "      <th>2016-07-04</th>\n",
       "      <td>0.575863</td>\n",
       "      <td>0.161367</td>\n",
       "      <td>-0.626619</td>\n",
       "      <td>0.310562</td>\n",
       "      <td>1</td>\n",
       "      <td>gamma</td>\n",
       "    </tr>\n",
       "    <tr>\n",
       "      <th>2016-07-06</th>\n",
       "      <td>0.675303</td>\n",
       "      <td>-2.006855</td>\n",
       "      <td>0.007875</td>\n",
       "      <td>1.007167</td>\n",
       "      <td>0</td>\n",
       "      <td>alpha</td>\n",
       "    </tr>\n",
       "    <tr>\n",
       "      <th>2016-07-05</th>\n",
       "      <td>0.275367</td>\n",
       "      <td>0.146366</td>\n",
       "      <td>0.126780</td>\n",
       "      <td>-0.850710</td>\n",
       "      <td>3</td>\n",
       "      <td>gamma</td>\n",
       "    </tr>\n",
       "  </tbody>\n",
       "</table>\n",
       "</div>"
      ],
      "text/plain": [
       "                   D         B         C         A  E      F\n",
       "2016-07-01 -0.183934 -1.792523  0.059451 -1.438099  1  alpha\n",
       "2016-07-03 -0.352290 -2.025417 -1.723997 -0.286706  3   beta\n",
       "2016-07-02  0.426656  0.825060 -1.185762 -0.146297  4  gamma\n",
       "2016-07-04  0.575863  0.161367 -0.626619  0.310562  1  gamma\n",
       "2016-07-06  0.675303 -2.006855  0.007875  1.007167  0  alpha\n",
       "2016-07-05  0.275367  0.146366  0.126780 -0.850710  3  gamma"
      ]
     },
     "execution_count": 35,
     "metadata": {},
     "output_type": "execute_result"
    }
   ],
   "source": [
    "df2"
   ]
  },
  {
   "cell_type": "code",
   "execution_count": 37,
   "metadata": {},
   "outputs": [
    {
     "data": {
      "text/html": [
       "<div>\n",
       "<style scoped>\n",
       "    .dataframe tbody tr th:only-of-type {\n",
       "        vertical-align: middle;\n",
       "    }\n",
       "\n",
       "    .dataframe tbody tr th {\n",
       "        vertical-align: top;\n",
       "    }\n",
       "\n",
       "    .dataframe thead th {\n",
       "        text-align: right;\n",
       "    }\n",
       "</style>\n",
       "<table border=\"1\" class=\"dataframe\">\n",
       "  <thead>\n",
       "    <tr style=\"text-align: right;\">\n",
       "      <th></th>\n",
       "      <th>D</th>\n",
       "      <th>B</th>\n",
       "      <th>C</th>\n",
       "      <th>A</th>\n",
       "      <th>E</th>\n",
       "      <th>F</th>\n",
       "    </tr>\n",
       "  </thead>\n",
       "  <tbody>\n",
       "    <tr>\n",
       "      <th>2016-07-06</th>\n",
       "      <td>0.675303</td>\n",
       "      <td>-2.006855</td>\n",
       "      <td>0.007875</td>\n",
       "      <td>1.007167</td>\n",
       "      <td>0</td>\n",
       "      <td>alpha</td>\n",
       "    </tr>\n",
       "    <tr>\n",
       "      <th>2016-07-01</th>\n",
       "      <td>-0.183934</td>\n",
       "      <td>-1.792523</td>\n",
       "      <td>0.059451</td>\n",
       "      <td>-1.438099</td>\n",
       "      <td>1</td>\n",
       "      <td>alpha</td>\n",
       "    </tr>\n",
       "    <tr>\n",
       "      <th>2016-07-04</th>\n",
       "      <td>0.575863</td>\n",
       "      <td>0.161367</td>\n",
       "      <td>-0.626619</td>\n",
       "      <td>0.310562</td>\n",
       "      <td>1</td>\n",
       "      <td>gamma</td>\n",
       "    </tr>\n",
       "    <tr>\n",
       "      <th>2016-07-03</th>\n",
       "      <td>-0.352290</td>\n",
       "      <td>-2.025417</td>\n",
       "      <td>-1.723997</td>\n",
       "      <td>-0.286706</td>\n",
       "      <td>3</td>\n",
       "      <td>beta</td>\n",
       "    </tr>\n",
       "    <tr>\n",
       "      <th>2016-07-05</th>\n",
       "      <td>0.275367</td>\n",
       "      <td>0.146366</td>\n",
       "      <td>0.126780</td>\n",
       "      <td>-0.850710</td>\n",
       "      <td>3</td>\n",
       "      <td>gamma</td>\n",
       "    </tr>\n",
       "    <tr>\n",
       "      <th>2016-07-02</th>\n",
       "      <td>0.426656</td>\n",
       "      <td>0.825060</td>\n",
       "      <td>-1.185762</td>\n",
       "      <td>-0.146297</td>\n",
       "      <td>4</td>\n",
       "      <td>gamma</td>\n",
       "    </tr>\n",
       "  </tbody>\n",
       "</table>\n",
       "</div>"
      ],
      "text/plain": [
       "                   D         B         C         A  E      F\n",
       "2016-07-06  0.675303 -2.006855  0.007875  1.007167  0  alpha\n",
       "2016-07-01 -0.183934 -1.792523  0.059451 -1.438099  1  alpha\n",
       "2016-07-04  0.575863  0.161367 -0.626619  0.310562  1  gamma\n",
       "2016-07-03 -0.352290 -2.025417 -1.723997 -0.286706  3   beta\n",
       "2016-07-05  0.275367  0.146366  0.126780 -0.850710  3  gamma\n",
       "2016-07-02  0.426656  0.825060 -1.185762 -0.146297  4  gamma"
      ]
     },
     "execution_count": 37,
     "metadata": {},
     "output_type": "execute_result"
    }
   ],
   "source": [
    "df2.sort_values(by=[\"E\",\"F\"])"
   ]
  },
  {
   "cell_type": "code",
   "execution_count": 38,
   "metadata": {},
   "outputs": [
    {
     "data": {
      "text/plain": [
       "array(['alpha', 'beta', 'gamma'], dtype=object)"
      ]
     },
     "execution_count": 38,
     "metadata": {},
     "output_type": "execute_result"
    }
   ],
   "source": [
    "df2[\"F\"].unique()"
   ]
  },
  {
   "cell_type": "code",
   "execution_count": 40,
   "metadata": {},
   "outputs": [
    {
     "data": {
      "text/plain": [
       "gamma    3\n",
       "alpha    2\n",
       "beta     1\n",
       "Name: F, dtype: int64"
      ]
     },
     "execution_count": 40,
     "metadata": {},
     "output_type": "execute_result"
    }
   ],
   "source": [
    "df2[\"F\"].value_counts()"
   ]
  },
  {
   "cell_type": "code",
   "execution_count": 42,
   "metadata": {},
   "outputs": [
    {
     "data": {
      "text/plain": [
       "2016-07-01     True\n",
       "2016-07-03     True\n",
       "2016-07-02    False\n",
       "2016-07-04    False\n",
       "2016-07-06     True\n",
       "2016-07-05    False\n",
       "Name: F, dtype: bool"
      ]
     },
     "execution_count": 42,
     "metadata": {},
     "output_type": "execute_result"
    }
   ],
   "source": [
    "df2[\"F\"].isin([\"alpha\",\"beta\"])"
   ]
  },
  {
   "cell_type": "code",
   "execution_count": 43,
   "metadata": {},
   "outputs": [
    {
     "data": {
      "text/html": [
       "<div>\n",
       "<style scoped>\n",
       "    .dataframe tbody tr th:only-of-type {\n",
       "        vertical-align: middle;\n",
       "    }\n",
       "\n",
       "    .dataframe tbody tr th {\n",
       "        vertical-align: top;\n",
       "    }\n",
       "\n",
       "    .dataframe thead th {\n",
       "        text-align: right;\n",
       "    }\n",
       "</style>\n",
       "<table border=\"1\" class=\"dataframe\">\n",
       "  <thead>\n",
       "    <tr style=\"text-align: right;\">\n",
       "      <th></th>\n",
       "      <th>D</th>\n",
       "      <th>B</th>\n",
       "      <th>C</th>\n",
       "      <th>A</th>\n",
       "      <th>E</th>\n",
       "      <th>F</th>\n",
       "    </tr>\n",
       "  </thead>\n",
       "  <tbody>\n",
       "    <tr>\n",
       "      <th>2016-07-01</th>\n",
       "      <td>-0.183934</td>\n",
       "      <td>-1.792523</td>\n",
       "      <td>0.059451</td>\n",
       "      <td>-1.438099</td>\n",
       "      <td>1</td>\n",
       "      <td>alpha</td>\n",
       "    </tr>\n",
       "    <tr>\n",
       "      <th>2016-07-03</th>\n",
       "      <td>-0.352290</td>\n",
       "      <td>-2.025417</td>\n",
       "      <td>-1.723997</td>\n",
       "      <td>-0.286706</td>\n",
       "      <td>3</td>\n",
       "      <td>beta</td>\n",
       "    </tr>\n",
       "    <tr>\n",
       "      <th>2016-07-06</th>\n",
       "      <td>0.675303</td>\n",
       "      <td>-2.006855</td>\n",
       "      <td>0.007875</td>\n",
       "      <td>1.007167</td>\n",
       "      <td>0</td>\n",
       "      <td>alpha</td>\n",
       "    </tr>\n",
       "  </tbody>\n",
       "</table>\n",
       "</div>"
      ],
      "text/plain": [
       "                   D         B         C         A  E      F\n",
       "2016-07-01 -0.183934 -1.792523  0.059451 -1.438099  1  alpha\n",
       "2016-07-03 -0.352290 -2.025417 -1.723997 -0.286706  3   beta\n",
       "2016-07-06  0.675303 -2.006855  0.007875  1.007167  0  alpha"
      ]
     },
     "execution_count": 43,
     "metadata": {},
     "output_type": "execute_result"
    }
   ],
   "source": [
    "df2.loc[df2[\"F\"].isin([\"alpha\",\"beta\"])]"
   ]
  },
  {
   "cell_type": "code",
   "execution_count": 49,
   "metadata": {},
   "outputs": [],
   "source": [
    "df3 = pd.DataFrame(np.random.randn(4, 3), columns=[\"b\", \"d\", \"e\"],\n",
    "                   index=[\"Seoul\", \"Incheon\", \"Busan\", \"Daegu\"])"
   ]
  },
  {
   "cell_type": "code",
   "execution_count": 50,
   "metadata": {},
   "outputs": [
    {
     "data": {
      "text/html": [
       "<div>\n",
       "<style scoped>\n",
       "    .dataframe tbody tr th:only-of-type {\n",
       "        vertical-align: middle;\n",
       "    }\n",
       "\n",
       "    .dataframe tbody tr th {\n",
       "        vertical-align: top;\n",
       "    }\n",
       "\n",
       "    .dataframe thead th {\n",
       "        text-align: right;\n",
       "    }\n",
       "</style>\n",
       "<table border=\"1\" class=\"dataframe\">\n",
       "  <thead>\n",
       "    <tr style=\"text-align: right;\">\n",
       "      <th></th>\n",
       "      <th>b</th>\n",
       "      <th>d</th>\n",
       "      <th>e</th>\n",
       "    </tr>\n",
       "  </thead>\n",
       "  <tbody>\n",
       "    <tr>\n",
       "      <th>Seoul</th>\n",
       "      <td>1.655895</td>\n",
       "      <td>0.389432</td>\n",
       "      <td>-1.363818</td>\n",
       "    </tr>\n",
       "    <tr>\n",
       "      <th>Incheon</th>\n",
       "      <td>1.344993</td>\n",
       "      <td>-0.751464</td>\n",
       "      <td>0.619855</td>\n",
       "    </tr>\n",
       "    <tr>\n",
       "      <th>Busan</th>\n",
       "      <td>-0.298493</td>\n",
       "      <td>0.108080</td>\n",
       "      <td>0.121306</td>\n",
       "    </tr>\n",
       "    <tr>\n",
       "      <th>Daegu</th>\n",
       "      <td>-1.377058</td>\n",
       "      <td>-1.060205</td>\n",
       "      <td>0.533904</td>\n",
       "    </tr>\n",
       "  </tbody>\n",
       "</table>\n",
       "</div>"
      ],
      "text/plain": [
       "                b         d         e\n",
       "Seoul    1.655895  0.389432 -1.363818\n",
       "Incheon  1.344993 -0.751464  0.619855\n",
       "Busan   -0.298493  0.108080  0.121306\n",
       "Daegu   -1.377058 -1.060205  0.533904"
      ]
     },
     "execution_count": 50,
     "metadata": {},
     "output_type": "execute_result"
    }
   ],
   "source": [
    "df3"
   ]
  },
  {
   "cell_type": "code",
   "execution_count": 45,
   "metadata": {},
   "outputs": [],
   "source": [
    "func = lambda x: x.max()-x.min()"
   ]
  },
  {
   "cell_type": "code",
   "execution_count": 48,
   "metadata": {},
   "outputs": [
    {
     "data": {
      "text/plain": [
       "b    1.997035\n",
       "d    3.267423\n",
       "e    1.729992\n",
       "dtype: float64"
      ]
     },
     "execution_count": 48,
     "metadata": {},
     "output_type": "execute_result"
    }
   ],
   "source": [
    "df3.apply(func,axis=0)"
   ]
  },
  {
   "cell_type": "code",
   "execution_count": 51,
   "metadata": {},
   "outputs": [
    {
     "data": {
      "text/plain": [
       "Seoul      3.019713\n",
       "Incheon    2.096457\n",
       "Busan      0.419799\n",
       "Daegu      1.910962\n",
       "dtype: float64"
      ]
     },
     "execution_count": 51,
     "metadata": {},
     "output_type": "execute_result"
    }
   ],
   "source": [
    "df3.apply(func, axis=1)"
   ]
  },
  {
   "cell_type": "code",
   "execution_count": null,
   "metadata": {},
   "outputs": [],
   "source": []
  }
 ],
 "metadata": {
  "kernelspec": {
   "display_name": "Python 3",
   "language": "python",
   "name": "python3"
  },
  "language_info": {
   "codemirror_mode": {
    "name": "ipython",
    "version": 3
   },
   "file_extension": ".py",
   "mimetype": "text/x-python",
   "name": "python",
   "nbconvert_exporter": "python",
   "pygments_lexer": "ipython3",
   "version": "3.6.4"
  }
 },
 "nbformat": 4,
 "nbformat_minor": 2
}
